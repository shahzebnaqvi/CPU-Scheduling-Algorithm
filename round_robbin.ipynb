{
  "nbformat": 4,
  "nbformat_minor": 0,
  "metadata": {
    "colab": {
      "name": "round_robbin.ipynb",
      "provenance": []
    },
    "kernelspec": {
      "name": "python3",
      "display_name": "Python 3"
    },
    "language_info": {
      "name": "python"
    }
  },
  "cells": [
    {
      "cell_type": "code",
      "execution_count": 1,
      "metadata": {
        "colab": {
          "base_uri": "https://localhost:8080/"
        },
        "id": "XiXDaDFnHlCr",
        "outputId": "4b1c706f-4ad4-429a-ba1d-63f97ec51cd5"
      },
      "outputs": [
        {
          "output_type": "stream",
          "name": "stdout",
          "text": [
            "Enter The Size of Quantum 3\n",
            "Enter The Number of Processes 6\n",
            "Enter The Burst Time of 1 = 3\n",
            "Enter The Burst Time of 2 = 4\n",
            "Enter The Burst Time of 3 = 6\n",
            "Enter The Burst Time of 4 = 7\n",
            "Enter The Burst Time of 5 = 9\n",
            "Enter The Burst Time of 6 = 13\n",
            "\n",
            "-------------------------------------------------\n",
            "\n",
            "\n",
            "\n",
            "Running Process 1 From time : 0 to 3\n",
            "<---------------------- Complete Process : 1 ---------------------->\n",
            "Running Process 2 From time : 3 to 6\n",
            "Running Process 3 From time : 6 to 9\n",
            "Running Process 4 From time : 9 to 12\n",
            "Running Process 5 From time : 12 to 15\n",
            "Running Process 6 From time : 15 to 18\n",
            "Running Process 2 From time : 18 to 19\n",
            "<---------------------- Complete Process : 2 ---------------------->\n",
            "Running Process 3 From time : 19 to 22\n",
            "<---------------------- Complete Process : 3 ---------------------->\n",
            "Running Process 4 From time : 22 to 25\n",
            "Running Process 5 From time : 25 to 28\n",
            "Running Process 6 From time : 28 to 31\n",
            "Running Process 4 From time : 31 to 32\n",
            "<---------------------- Complete Process : 4 ---------------------->\n",
            "Running Process 5 From time : 32 to 35\n",
            "<---------------------- Complete Process : 5 ---------------------->\n",
            "Running Process 6 From time : 35 to 38\n",
            "Running Process 6 From time : 38 to 41\n",
            "Running Process 6 From time : 41 to 42\n",
            "<---------------------- Complete Process : 6 ---------------------->\n",
            "\n",
            "-------------------------------------------------\n",
            "\n",
            "Processes    Burst Time     Waiting Time    Turn-Around Time\n",
            "  1 \t\t 3 \t\t 0 \t\t 3\n",
            "  2 \t\t 4 \t\t 15 \t\t 19\n",
            "  3 \t\t 6 \t\t 16 \t\t 22\n",
            "  4 \t\t 7 \t\t 25 \t\t 32\n",
            "  5 \t\t 9 \t\t 26 \t\t 35\n",
            "  6 \t\t 13 \t\t 29 \t\t 42\n",
            "\n",
            "Average waiting time = 18.50000 \n",
            "Average turn around time = 25.50000 \n",
            "\b\n",
            "[{1: (0, 3)}, {2: (3, 3)}, {3: (6, 3)}, {4: (9, 3)}, {5: (12, 3)}, {6: (15, 3)}, {2: (18, 1)}, {3: (19, 3)}, {4: (22, 3)}, {5: (25, 3)}, {6: (28, 3)}, {4: (31, 1)}, {5: (32, 3)}, {6: (35, 3)}, {6: (38, 3)}, {6: (41, 1)}]\n"
          ]
        }
      ],
      "source": [
        "def findWaitingTime(processes, n, bt,wt, quantum,pl):\n",
        "    \n",
        "    rem_bt = [0] * n\n",
        "    for i in range(n):\n",
        "        rem_bt[i] = bt[i]\n",
        "    t =0\n",
        "    while(1):\n",
        "        done = True\n",
        "        for i in range(n):\n",
        "            if (rem_bt[i] > 0) :\n",
        "                done = False\n",
        "                if (rem_bt[i] > quantum) : \n",
        "                   \n",
        "                    pl.append({i+1:(t,quantum)})\n",
        "                    print(\"Running Process \"+ str(i+1)+ \" From time : \"+str(t) +\" to \" + str(t+quantum))\n",
        "                    t += quantum\n",
        "                    rem_bt[i] -= quantum\n",
        "                else:\n",
        "                    pl.append({i+1:(t, rem_bt[i])})\n",
        "                    print(\"Running Process \"+ str(i+1)+ \" From time : \"+str(t)+\" to \"+ str(t + rem_bt[i]))\n",
        "                    t = t + rem_bt[i]\n",
        "                    wt[i] = t - bt[i]\n",
        "                    rem_bt[i] = 0\n",
        "                    print(\"<---------------------- Complete Process : \"+ str(i+1)+\" ---------------------->\")\n",
        "        if (done == True):\n",
        "            break\n",
        "def findTurnAroundTime(processes, n, bt, wt, tat): \n",
        "    for i in range(n):\n",
        "        tat[i] = bt[i] + wt[i]\n",
        "def findavgTime(processes, n, bt, quantum,pl):\n",
        "    wt = [0] * n\n",
        "    tat = [0] * n\n",
        "    findWaitingTime(processes, n, bt,\n",
        "                         wt, quantum,pl)\n",
        "    findTurnAroundTime(processes, n, bt,\n",
        "                                wt, tat)\n",
        "    print(\"\\n-------------------------------------------------\\n\")\n",
        "    print(\"Processes    Burst Time     Waiting\",\n",
        "                     \"Time    Turn-Around Time\")\n",
        "    total_wt = 0\n",
        "    total_tat = 0\n",
        "    for i in range(n):\n",
        "        total_wt = total_wt + wt[i]\n",
        "        total_tat = total_tat + tat[i]\n",
        "        print(\" \", i + 1, \"\\t\\t\", bt[i],\n",
        "              \"\\t\\t\", wt[i], \"\\t\\t\", tat[i])\n",
        "    print(\"\\nAverage waiting time = %.5f \"%(total_wt /n) )\n",
        "    print(\"Average turn around time = %.5f \"% (total_tat / n))\n",
        "    print(\"\\b\")\n",
        "    print(pl)\n",
        "proc = []\n",
        "burst_time = []\n",
        "quantum = int(input(\"Enter The Size of Quantum \"))\n",
        "n = int(input(\"Enter The Number of Processes \"))\n",
        "total=0;\n",
        "for a in range(n):\n",
        "  proc.append(a)\n",
        "  b = int(input(\"Enter The Burst Time of \"+str(a+1) +\" = \"))\n",
        "  total =total+b;\n",
        "  burst_time.append(b)\n",
        "print(\"\\n-------------------------------------------------\\n\\n\\n\")\n",
        "plotgraph= []\n",
        "findavgTime(proc, n, burst_time, quantum,plotgraph)"
      ]
    },
    {
      "cell_type": "code",
      "source": [
        "import matplotlib.pyplot as plt \n",
        "from collections import defaultdict\n",
        "dd = defaultdict(list)\n",
        "for d in (plotgraph): # you can list as many input dicts as you want here\n",
        "    for key, value in d.items():\n",
        "        dd[key].append(value)\n",
        "fig,ax = plt.subplots()\n",
        "color =['tab:pink','tab:red','tab:blue','tab:green','tab:pink','tab:red','tab:blue','tab:pink','tab:red','tab:blue','tab:green','tab:yellow','tab:black','tab:purple','tab:pink','tab:red','tab:blue','tab:green','tab:yellow','tab:black','tab:purple','tab:pink','tab:red','tab:blue','tab:green','tab:yellow','tab:black','tab:purple']\n",
        "b=0\n",
        "for a in dd:\n",
        "    # print(a)\n",
        "    c=(a+1)*10\n",
        "    ax.broken_barh(dd[a], (c, 9), facecolors =color[b])\n",
        "    b= b+1\n"
      ],
      "metadata": {
        "colab": {
          "base_uri": "https://localhost:8080/",
          "height": 265
        },
        "id": "L7YqtDd-HrOl",
        "outputId": "58bd28d1-42f2-4111-b287-b37ce7850b80"
      },
      "execution_count": 5,
      "outputs": [
        {
          "output_type": "display_data",
          "data": {
            "text/plain": [
              "<Figure size 432x288 with 1 Axes>"
            ],
            "image/png": "[encoded data removed]"
          },
          "metadata": {
            "needs_background": "light"
          }
        }
      ]
    },
    {
      "cell_type": "code",
      "source": [
        ""
      ],
      "metadata": {
        "id": "VhP44INZH33m"
      },
      "execution_count": null,
      "outputs": []
    }
  ]
}