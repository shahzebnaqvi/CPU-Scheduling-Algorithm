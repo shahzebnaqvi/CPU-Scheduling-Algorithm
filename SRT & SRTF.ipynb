{
  "nbformat": 4,
  "nbformat_minor": 0,
  "metadata": {
    "colab": {
      "name": "final assignment SRT & SRTF.ipynb",
      "provenance": [],
      "collapsed_sections": []
    },
    "kernelspec": {
      "name": "python3",
      "display_name": "Python 3"
    },
    "language_info": {
      "name": "python"
    }
  },
  "cells": [
    {
      "cell_type": "markdown",
      "source": [
        "\n",
        "\n",
        "\n",
        "# SHORTEST JOB FIRST (NON-PREEMPTIVE) SJF\n",
        "\n",
        "\n"
      ],
      "metadata": {
        "id": "wwMbxQTQB5kS"
      }
    },
    {
      "cell_type": "code",
      "execution_count": 2,
      "metadata": {
        "id": "0vM-cochBqV1"
      },
      "outputs": [],
      "source": [
        "\n",
        "def processData( no_of_processes,pl):\n",
        "    process_data = []\n",
        "    for i in range(no_of_processes):\n",
        "        temporary = []\n",
        "        process_id =(i+1)\n",
        "        arrival_time = int(input(f\"Enter Arrival Time for Process {process_id}: \"))\n",
        "        burst_time = int(input(f\"Enter Burst Time for Process {process_id}: \"))\n",
        "        temporary.extend([process_id, arrival_time, burst_time, 0])\n",
        "        '''\n",
        "        '0' is the state of the process. 0 means not executed and 1 means execution complete\n",
        "        '''\n",
        "        process_data.append(temporary)\n",
        "    schedulingProcess( process_data,pl)\n",
        "\n",
        "\n",
        "\n",
        "\n",
        "def calculateTurnaroundTime( process_data):\n",
        "    total_turnaround_time = 0\n",
        "    for i in range(len(process_data)):\n",
        "        turnaround_time = process_data[i][4] - process_data[i][1]\n",
        "        '''\n",
        "        turnaround_time = completion_time - arrival_time\n",
        "        '''\n",
        "        total_turnaround_time = total_turnaround_time + turnaround_time\n",
        "        process_data[i].append(turnaround_time)\n",
        "    average_turnaround_time = total_turnaround_time / len(process_data)\n",
        "    '''\n",
        "    average_turnaround_time = total_turnaround_time / no_of_processes\n",
        "    '''\n",
        "    return average_turnaround_time\n",
        "\n",
        "\n",
        "def calculateWaitingTime( process_data):\n",
        "    total_waiting_time = 0\n",
        "    for i in range(len(process_data)):\n",
        "        waiting_time = process_data[i][5] - process_data[i][2]\n",
        "        '''\n",
        "        waiting_time = turnaround_time - burst_time\n",
        "        '''\n",
        "        total_waiting_time = total_waiting_time + waiting_time\n",
        "        process_data[i].append(waiting_time)\n",
        "    average_waiting_time = total_waiting_time / len(process_data)\n",
        "    '''\n",
        "    average_waiting_time = total_waiting_time / no_of_processes\n",
        "    '''\n",
        "    return average_waiting_time\n",
        "\n",
        "\n",
        "def printData( process_data, average_turnaround_time, average_waiting_time):\n",
        "    process_data.sort(key=lambda x: x[0])\n",
        "    '''\n",
        "    Sort processes according to the Process ID\n",
        "    '''\n",
        "    print(\"Process_ID  Arrival_Time  Burst_Time      Completed  Completion_Time  Turnaround_Time  Waiting_Time\")\n",
        "    for i in range(len(process_data)):\n",
        "        for j in range(len(process_data[i])):\n",
        "\n",
        "            print(process_data[i][j], end=\"\t\t\")\n",
        "        print()\n",
        "    print(f'Average Turnaround Time: {average_turnaround_time}')\n",
        "\n",
        "    print(f'Average Waiting Time: {average_waiting_time}')\n",
        "\n"
      ]
    },
    {
      "cell_type": "code",
      "source": [
        "def schedulingProcess( process_data,pl):\n",
        "    start_time = []\n",
        "    exit_time = []\n",
        "    \n",
        "    s_time = 0\n",
        "    process_data.sort(key=lambda x: x[1])\n",
        "\n",
        "    '''\n",
        "    Sort processes according to the Arrival Time\n",
        "    '''\n",
        "    for i in range(len(process_data)):\n",
        "        ready_queue = []\n",
        "        temp = []\n",
        "        normal_queue = []\n",
        "        # print(i)\n",
        "        for j in range(len(process_data)):\n",
        "            if (process_data[j][1] <= s_time) and (process_data[j][3] == 0):\n",
        "                temp.extend([process_data[j][0], process_data[j][1], process_data[j][2]])\n",
        "                ready_queue.append(temp)\n",
        "                temp = []\n",
        "            elif process_data[j][3] == 0:\n",
        "                temp.extend([process_data[j][0], process_data[j][1], process_data[j][2]])\n",
        "                normal_queue.append(temp)\n",
        "                temp = []\n",
        "        if len(ready_queue) != 0:\n",
        "            ready_queue.sort(key=lambda x: x[2])\n",
        "            '''\n",
        "            Sort the processes according to the Burst Time\n",
        "            '''           \n",
        "            ab=s_time\n",
        "            start_time.append(s_time)\n",
        "            s_time = s_time + ready_queue[0][2]\n",
        "            e_time = s_time\n",
        "            pl.append({i:(ab,e_time-ab)})\n",
        "            exit_time.append(e_time)\n",
        "            print(start_time)\n",
        "            print(exit_time)\n",
        "            for k in range(len(process_data)):\n",
        "                if process_data[k][0] == ready_queue[0][0]:\n",
        "                    break\n",
        "            process_data[k][3] = 1\n",
        "            process_data[k].append(e_time)\n",
        "\n",
        "        elif len(ready_queue) == 0:\n",
        "            if s_time < normal_queue[0][1]:\n",
        "                s_time = normal_queue[0][1]\n",
        "            ab = s_time\n",
        "            start_time.append(s_time)\n",
        "            s_time = s_time + normal_queue[0][2]\n",
        "            e_time = s_time\n",
        "            pl.append({i:(ab,e_time-ab)})\n",
        "            exit_time.append(e_time)\n",
        "            for k in range(len(process_data)):\n",
        "                if process_data[k][0] == normal_queue[0][0]:\n",
        "                    break\n",
        "            process_data[k][3] = 1\n",
        "            process_data[k].append(e_time)\n",
        "    print(pl)\n",
        "    t_time = calculateTurnaroundTime( process_data)\n",
        "    w_time = calculateWaitingTime( process_data)\n",
        "    printData( process_data, t_time, w_time)\n",
        "\n",
        "if __name__ == \"__main__\":\n",
        "    no_of_processes = int(input(\"Enter number of processes: \"))\n",
        "    plotgraph=[]\n",
        "    processData(no_of_processes,plotgraph)"
      ],
      "metadata": {
        "colab": {
          "base_uri": "https://localhost:8080/",
          "height": 0
        },
        "id": "zxeR2497HzLa",
        "outputId": "9937c7e5-1712-4b6a-82b8-36b011cc1e8d"
      },
      "execution_count": 3,
      "outputs": [
        {
          "output_type": "stream",
          "name": "stdout",
          "text": [
            "Enter number of processes: 5\n",
            "Enter Arrival Time for Process 1: 2\n",
            "Enter Burst Time for Process 1: 5\n",
            "Enter Arrival Time for Process 2: 1\n",
            "Enter Burst Time for Process 2: 7\n",
            "Enter Arrival Time for Process 3: 4\n",
            "Enter Burst Time for Process 3: 6\n",
            "Enter Arrival Time for Process 4: 4\n",
            "Enter Burst Time for Process 4: 2\n",
            "Enter Arrival Time for Process 5: 8\n",
            "Enter Burst Time for Process 5: 4\n",
            "[1, 8]\n",
            "[8, 10]\n",
            "[1, 8, 10]\n",
            "[8, 10, 14]\n",
            "[1, 8, 10, 14]\n",
            "[8, 10, 14, 19]\n",
            "[1, 8, 10, 14, 19]\n",
            "[8, 10, 14, 19, 25]\n",
            "[{0: (1, 7)}, {1: (8, 2)}, {2: (10, 4)}, {3: (14, 5)}, {4: (19, 6)}]\n",
            "Process_ID  Arrival_Time  Burst_Time      Completed  Completion_Time  Turnaround_Time  Waiting_Time\n",
            "1\t\t2\t\t5\t\t1\t\t19\t\t17\t\t12\t\t\n",
            "2\t\t1\t\t7\t\t1\t\t8\t\t7\t\t0\t\t\n",
            "3\t\t4\t\t6\t\t1\t\t25\t\t21\t\t15\t\t\n",
            "4\t\t4\t\t2\t\t1\t\t10\t\t6\t\t4\t\t\n",
            "5\t\t8\t\t4\t\t1\t\t14\t\t6\t\t2\t\t\n",
            "Average Turnaround Time: 11.4\n",
            "Average Waiting Time: 6.6\n"
          ]
        }
      ]
    },
    {
      "cell_type": "code",
      "source": [
        "import matplotlib.pyplot as plt \n",
        "from collections import defaultdict\n",
        "dd = defaultdict(list)\n",
        "for d in (plotgraph): # you can list as many input dicts as you want here\n",
        "    for key, value in d.items():\n",
        "        dd[key].append(value) \n",
        "fig,ax = plt.subplots()\n",
        "\n",
        "color =['tab:pink','tab:red','tab:blue','tab:green','tab:red','tab:black','tab:purple','tab:pink','tab:red','tab:blue','tab:green','tab:yellow','tab:black','tab:purple','tab:pink','tab:red','tab:blue','tab:green','tab:yellow','tab:black','tab:purple','tab:pink','tab:red','tab:blue','tab:green','tab:yellow','tab:black','tab:purple']\n",
        "print(plotgraph)\n",
        "\n",
        "for a in dd:\n",
        "  print(dd[a])\n",
        "  print(\"SAsaas\")\n",
        "  dd[a]\n",
        "  print(\"SAsaas\")\n",
        "\n",
        "  print(a)\n",
        "  c=(a+1)*10\n",
        "  ax.broken_barh(dd[a], (c, 9), facecolors =(color[a]))\n",
        "\n"
      ],
      "metadata": {
        "colab": {
          "base_uri": "https://localhost:8080/",
          "height": 629
        },
        "id": "Mgz7-S3SEIz7",
        "outputId": "17f64029-0166-4451-c863-08fdf3979058"
      },
      "execution_count": 22,
      "outputs": [
        {
          "output_type": "stream",
          "name": "stdout",
          "text": [
            "[{0: (1, 7)}, {1: (8, 2)}, {2: (10, 4)}, {3: (14, 5)}, {4: (19, 6)}]\n",
            "[(1, 7)]\n",
            "SAsaas\n",
            "SAsaas\n",
            "0\n",
            "[(8, 2)]\n",
            "SAsaas\n",
            "SAsaas\n",
            "1\n",
            "[(10, 4)]\n",
            "SAsaas\n",
            "SAsaas\n",
            "2\n",
            "[(14, 5)]\n",
            "SAsaas\n",
            "SAsaas\n",
            "3\n",
            "[(19, 6)]\n",
            "SAsaas\n",
            "SAsaas\n",
            "4\n"
          ]
        },
        {
          "output_type": "display_data",
          "data": {
            "text/plain": [
              "<Figure size 432x288 with 1 Axes>"
            ],
            "image/png": "[encoded data removed]"
          },
          "metadata": {
            "needs_background": "light"
          }
        }
      ]
    },
    {
      "cell_type": "markdown",
      "source": [
        "# SHORTEST JOB FIRST (PREEMPTIVE) also known as SRTF\n"
      ],
      "metadata": {
        "id": "MZSq54bsCQWV"
      }
    },
    {
      "cell_type": "code",
      "source": [
        "\n",
        "def processData( no_of_processes,pl):\n",
        "    process_data = []\n",
        "    for i in range(no_of_processes):\n",
        "        temporary = []\n",
        "        process_id = (i+1)\n",
        "        arrival_time = int(input(f\"Enter Arrival Time for Process {process_id}: \"))\n",
        "        burst_time = int(input(f\"Enter Burst Time for Process {process_id}: \"))\n",
        "        temporary.extend([process_id, arrival_time, burst_time, 0, burst_time])\n",
        "        '''\n",
        "        '0' is the state of the process. 0 means not executed and 1 means execution complete\n",
        "        '''\n",
        "        process_data.append(temporary)\n",
        "    schedulingProcess( process_data,pl)\n",
        "\n",
        "\n",
        "def calculateTurnaroundTime( process_data):\n",
        "    total_turnaround_time = 0\n",
        "    for i in range(len(process_data)):\n",
        "        turnaround_time = process_data[i][5] - process_data[i][1]\n",
        "        '''\n",
        "        turnaround_time = completion_time - arrival_time\n",
        "        '''\n",
        "        total_turnaround_time = total_turnaround_time + turnaround_time\n",
        "        process_data[i].append(turnaround_time)\n",
        "    average_turnaround_time = total_turnaround_time / len(process_data)\n",
        "    '''\n",
        "    average_turnaround_time = total_turnaround_time / no_of_processes\n",
        "    '''\n",
        "    return average_turnaround_time\n",
        "\n",
        "def calculateWaitingTime( process_data):\n",
        "    total_waiting_time = 0\n",
        "    for i in range(len(process_data)):\n",
        "        waiting_time = process_data[i][6] - process_data[i][4]\n",
        "        '''\n",
        "        waiting_time = turnaround_time - burst_time\n",
        "        '''\n",
        "        total_waiting_time = total_waiting_time + waiting_time\n",
        "        process_data[i].append(waiting_time)\n",
        "    average_waiting_time = total_waiting_time / len(process_data)\n",
        "    '''\n",
        "    average_waiting_time = total_waiting_time / no_of_processes\n",
        "    '''\n",
        "    return average_waiting_time\n",
        "\n",
        "def printData( process_data, average_turnaround_time, average_waiting_time, sequence_of_process):\n",
        "    process_data.sort(key=lambda x: x[0])\n",
        "    '''\n",
        "    Sort processes according to the Process ID\n",
        "    '''\n",
        "    print(\"Process_ID  Arrival_Time  Rem_Burst_Time      Completed  Orig_Burst_Time Completion_Time  Turnaround_Time  Waiting_Time\")\n",
        "    for i in range(len(process_data)):\n",
        "        for j in range(len(process_data[i])):\n",
        "            print(process_data[i][j], end=\"\\t\\t\")\n",
        "        print()\n",
        "    print(f'Average Turnaround Time: {average_turnaround_time}')\n",
        "    print(f'Average Waiting Time: {average_waiting_time}')\n",
        "    print(f'Sequence of Process: {sequence_of_process}')\n",
        "\n"
      ],
      "metadata": {
        "id": "htRwou7GBypd"
      },
      "execution_count": 9,
      "outputs": []
    },
    {
      "cell_type": "code",
      "source": [
        "def schedulingProcess( process_data,pl):\n",
        "    start_time = []\n",
        "    exit_time = []\n",
        "    s_time = 0\n",
        "    sequence_of_process = []\n",
        "    process_data.sort(key=lambda x: x[1])\n",
        "    '''\n",
        "    Sort processes according to the Arrival Time\n",
        "    '''\n",
        "    while 1:\n",
        "        ready_queue = []\n",
        "        normal_queue = []\n",
        "        temp = []\n",
        "        for i in range(len(process_data)):\n",
        "            if process_data[i][1] <= s_time and process_data[i][3] == 0:\n",
        "                temp.extend([process_data[i][0], process_data[i][1], process_data[i][2], process_data[i][4]])\n",
        "                ready_queue.append(temp)\n",
        "                temp = []\n",
        "            elif process_data[i][3] == 0:\n",
        "                temp.extend([process_data[i][0], process_data[i][1], process_data[i][2], process_data[i][4]])\n",
        "                normal_queue.append(temp)\n",
        "                temp = []\n",
        "        if len(ready_queue) == 0 and len(normal_queue) == 0:\n",
        "            break\n",
        "        if len(ready_queue) != 0:\n",
        "            ready_queue.sort(key=lambda x: x[2])\n",
        "            '''\n",
        "            Sort processes according to Burst Time\n",
        "            '''\n",
        "            start_time.append(s_time)\n",
        "            ab = s_time\n",
        "\n",
        "            s_time = s_time + 1\n",
        "            e_time = s_time \n",
        "            cc = e_time-ab\n",
        "            # print(\"dsdsdssdds\")\n",
        "            # print(ab)\n",
        "            # print(e_time)\n",
        "            # print(cc)\n",
        "            pl.append({ready_queue[0][0]:(ab,cc)})\n",
        "            # print(pl)\n",
        "\n",
        "            exit_time.append(e_time)\n",
        "            sequence_of_process.append(ready_queue[0][0])\n",
        "            for k in range(len(process_data)):\n",
        "                if process_data[k][0] == ready_queue[0][0]:\n",
        "                    break\n",
        "            process_data[k][2] = process_data[k][2] - 1\n",
        "            if process_data[k][2] == 0:        #If Burst Time of a process is 0, it means the process is completed\n",
        "                process_data[k][3] = 1\n",
        "                process_data[k].append(e_time)\n",
        "        if len(ready_queue) == 0:\n",
        "            if s_time < normal_queue[0][1]:\n",
        "                s_time = normal_queue[0][1]\n",
        "            start_time.append(s_time)\n",
        "            ab = s_time\n",
        "            s_time = s_time + 1\n",
        "            e_time = s_time\n",
        "            cc=e_time-ab\n",
        "            \n",
        "            pl.append({normal_queue[0][0]:(ab,cc)})\n",
        "            # print(pl)\n",
        "\n",
        "            # print(ab)\n",
        "            # print(e_time)\n",
        "            # print(cc)\n",
        "            exit_time.append(e_time)\n",
        "            sequence_of_process.append(normal_queue[0][0])\n",
        "            for k in range(len(process_data)):\n",
        "                if process_data[k][0] == normal_queue[0][0]:\n",
        "                    break\n",
        "            process_data[k][2] = process_data[k][2] - 1\n",
        "            if process_data[k][2] == 0:        #If Burst Time of a process is 0, it means the process is completed\n",
        "                process_data[k][3] = 1\n",
        "                process_data[k].append(e_time)\n",
        "    t_time = calculateTurnaroundTime( process_data)\n",
        "    w_time = calculateWaitingTime( process_data)\n",
        "    printData( process_data, t_time, w_time, sequence_of_process)\n",
        "\n",
        "\n",
        "if __name__ == \"__main__\":\n",
        "    no_of_processes = int(input(\"Enter number of processes: \"))\n",
        "    plotgraph1 = []\n",
        "\n",
        "    processData(no_of_processes,plotgraph1)\n",
        "2"
      ],
      "metadata": {
        "colab": {
          "base_uri": "https://localhost:8080/",
          "height": 0
        },
        "id": "JA2Qqy9iCVXS",
        "outputId": "25243566-7abf-47fb-acd0-5fcfb5c3ba42"
      },
      "execution_count": 18,
      "outputs": [
        {
          "output_type": "stream",
          "name": "stdout",
          "text": [
            "Enter number of processes: 9\n",
            "Enter Arrival Time for Process 1: 5\n",
            "Enter Burst Time for Process 1: 2\n",
            "Enter Arrival Time for Process 2: 2\n",
            "Enter Burst Time for Process 2: 5\n",
            "Enter Arrival Time for Process 3: 2\n",
            "Enter Burst Time for Process 3: 8\n",
            "Enter Arrival Time for Process 4: 2\n",
            "Enter Burst Time for Process 4: 5\n",
            "Enter Arrival Time for Process 5: 4\n",
            "Enter Burst Time for Process 5: 6\n",
            "Enter Arrival Time for Process 6: 3\n",
            "Enter Burst Time for Process 6: 9\n",
            "Enter Arrival Time for Process 7: 0\n",
            "Enter Burst Time for Process 7: 4\n",
            "Enter Arrival Time for Process 8: 1\n",
            "Enter Burst Time for Process 8: 9\n",
            "Enter Arrival Time for Process 9: 4\n",
            "Enter Burst Time for Process 9: 9\n",
            "Process_ID  Arrival_Time  Rem_Burst_Time      Completed  Orig_Burst_Time Completion_Time  Turnaround_Time  Waiting_Time\n",
            "1\t\t5\t\t0\t\t1\t\t2\t\t7\t\t2\t\t0\t\t\n",
            "2\t\t2\t\t0\t\t1\t\t5\t\t11\t\t9\t\t4\t\t\n",
            "3\t\t2\t\t0\t\t1\t\t8\t\t30\t\t28\t\t20\t\t\n",
            "4\t\t2\t\t0\t\t1\t\t5\t\t16\t\t14\t\t9\t\t\n",
            "5\t\t4\t\t0\t\t1\t\t6\t\t22\t\t18\t\t12\t\t\n",
            "6\t\t3\t\t0\t\t1\t\t9\t\t48\t\t45\t\t36\t\t\n",
            "7\t\t0\t\t0\t\t1\t\t4\t\t4\t\t4\t\t0\t\t\n",
            "8\t\t1\t\t0\t\t1\t\t9\t\t39\t\t38\t\t29\t\t\n",
            "9\t\t4\t\t0\t\t1\t\t9\t\t57\t\t53\t\t44\t\t\n",
            "Average Turnaround Time: 23.444444444444443\n",
            "Average Waiting Time: 17.11111111111111\n",
            "Sequence of Process: [7, 7, 7, 7, 2, 1, 1, 2, 2, 2, 2, 4, 4, 4, 4, 4, 5, 5, 5, 5, 5, 5, 3, 3, 3, 3, 3, 3, 3, 3, 8, 8, 8, 8, 8, 8, 8, 8, 8, 6, 6, 6, 6, 6, 6, 6, 6, 6, 9, 9, 9, 9, 9, 9, 9, 9, 9]\n"
          ]
        },
        {
          "output_type": "execute_result",
          "data": {
            "text/plain": [
              "2"
            ]
          },
          "metadata": {},
          "execution_count": 18
        }
      ]
    },
    {
      "cell_type": "code",
      "source": [
        "import matplotlib.pyplot as plt \n",
        "from collections import defaultdict\n",
        "dd = defaultdict(list)\n",
        "for d in (plotgraph1): # you can list as many input dicts as you want here\n",
        "    for key, value in d.items():\n",
        "        dd[key].append(value)\n",
        "fig,ax = plt.subplots()\n",
        "color =['tab:pink','tab:red','tab:blue','tab:green','tab:purple','tab:red','tab:purple','tab:pink','tab:red','tab:blue','tab:green','tab:pink','tab:black','tab:purple','tab:pink','tab:red','tab:blue','tab:green','tab:yellow','tab:black','tab:purple','tab:pink','tab:red','tab:blue','tab:green','tab:yellow','tab:black','tab:purple']\n",
        "print(plotgraph1)\n",
        "print(dd)\n",
        "for key in dd:\n",
        "  # print(n)\n",
        "  key = int(key)\n",
        "  # print(dd[key])\n",
        "  type(dd[key])\n",
        "  c=(key+1)*10\n",
        "  ax.broken_barh(dd[key], (c, 9), facecolors =(color[key]))\n",
        "  # print(key)"
      ],
      "metadata": {
        "id": "bPokp-1nZkrs",
        "colab": {
          "base_uri": "https://localhost:8080/",
          "height": 320
        },
        "outputId": "2fca8df9-d8d5-48fc-8ef7-ac351f4f833d"
      },
      "execution_count": 21,
      "outputs": [
        {
          "output_type": "stream",
          "name": "stdout",
          "text": [
            "[{7: (0, 1)}, {7: (1, 1)}, {7: (2, 1)}, {7: (3, 1)}, {2: (4, 1)}, {1: (5, 1)}, {1: (6, 1)}, {2: (7, 1)}, {2: (8, 1)}, {2: (9, 1)}, {2: (10, 1)}, {4: (11, 1)}, {4: (12, 1)}, {4: (13, 1)}, {4: (14, 1)}, {4: (15, 1)}, {5: (16, 1)}, {5: (17, 1)}, {5: (18, 1)}, {5: (19, 1)}, {5: (20, 1)}, {5: (21, 1)}, {3: (22, 1)}, {3: (23, 1)}, {3: (24, 1)}, {3: (25, 1)}, {3: (26, 1)}, {3: (27, 1)}, {3: (28, 1)}, {3: (29, 1)}, {8: (30, 1)}, {8: (31, 1)}, {8: (32, 1)}, {8: (33, 1)}, {8: (34, 1)}, {8: (35, 1)}, {8: (36, 1)}, {8: (37, 1)}, {8: (38, 1)}, {6: (39, 1)}, {6: (40, 1)}, {6: (41, 1)}, {6: (42, 1)}, {6: (43, 1)}, {6: (44, 1)}, {6: (45, 1)}, {6: (46, 1)}, {6: (47, 1)}, {9: (48, 1)}, {9: (49, 1)}, {9: (50, 1)}, {9: (51, 1)}, {9: (52, 1)}, {9: (53, 1)}, {9: (54, 1)}, {9: (55, 1)}, {9: (56, 1)}]\n",
            "defaultdict(<class 'list'>, {7: [(0, 1), (1, 1), (2, 1), (3, 1)], 2: [(4, 1), (7, 1), (8, 1), (9, 1), (10, 1)], 1: [(5, 1), (6, 1)], 4: [(11, 1), (12, 1), (13, 1), (14, 1), (15, 1)], 5: [(16, 1), (17, 1), (18, 1), (19, 1), (20, 1), (21, 1)], 3: [(22, 1), (23, 1), (24, 1), (25, 1), (26, 1), (27, 1), (28, 1), (29, 1)], 8: [(30, 1), (31, 1), (32, 1), (33, 1), (34, 1), (35, 1), (36, 1), (37, 1), (38, 1)], 6: [(39, 1), (40, 1), (41, 1), (42, 1), (43, 1), (44, 1), (45, 1), (46, 1), (47, 1)], 9: [(48, 1), (49, 1), (50, 1), (51, 1), (52, 1), (53, 1), (54, 1), (55, 1), (56, 1)]})\n"
          ]
        },
        {
          "output_type": "display_data",
          "data": {
            "text/plain": [
              "<Figure size 432x288 with 1 Axes>"
            ],
            "image/png": "[encoded data removed]"
          },
          "metadata": {
            "needs_background": "light"
          }
        }
      ]
    },
    {
      "cell_type": "markdown",
      "source": [
        ""
      ],
      "metadata": {
        "id": "DqQn9Arp-Hgz"
      }
    }
  ]
}